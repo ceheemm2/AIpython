{
  "nbformat": 4,
  "nbformat_minor": 0,
  "metadata": {
    "colab": {
      "name": "방과후10_21318.ipynb",
      "provenance": [],
      "authorship_tag": "ABX9TyMiL3bRVNB/UuCWmtoOPorp",
      "include_colab_link": true
    },
    "kernelspec": {
      "name": "python3",
      "display_name": "Python 3"
    }
  },
  "cells": [
    {
      "cell_type": "markdown",
      "metadata": {
        "id": "view-in-github",
        "colab_type": "text"
      },
      "source": [
        "<a href=\"https://colab.research.google.com/github/ceheemm2/AIpython/blob/master/%EB%B0%A9%EA%B3%BC%ED%9B%8410_21318.ipynb\" target=\"_parent\"><img src=\"https://colab.research.google.com/assets/colab-badge.svg\" alt=\"Open In Colab\"/></a>"
      ]
    },
    {
      "cell_type": "markdown",
      "metadata": {
        "id": "5dtO8x2mEG2y",
        "colab_type": "text"
      },
      "source": [
        "# keras ai"
      ]
    },
    {
      "cell_type": "code",
      "metadata": {
        "id": "4i-iQpDgEI7P",
        "colab_type": "code",
        "colab": {
          "base_uri": "https://localhost:8080/",
          "height": 35
        },
        "outputId": "a149637e-abd7-4332-de3a-a4a593202754"
      },
      "source": [
        "print(\"Hello Github\")"
      ],
      "execution_count": 1,
      "outputs": [
        {
          "output_type": "stream",
          "text": [
            "Hello Github\n"
          ],
          "name": "stdout"
        }
      ]
    }
  ]
}